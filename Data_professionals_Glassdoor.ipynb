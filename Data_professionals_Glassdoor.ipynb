{
 "cells": [
  {
   "cell_type": "code",
   "execution_count": 1,
   "id": "e1b91b07",
   "metadata": {},
   "outputs": [
    {
     "name": "stdout",
     "output_type": "stream",
     "text": [
      "                                           Company Name     Rating  \\\n",
      "0     Team Gesundheit - Gesellschaft für Gesundheits...        3.4   \n",
      "1                                        Hoffmann Group        3.5   \n",
      "2                                         Chrono24 GmbH        3.3   \n",
      "3                                   Onlineprinters GmbH        2.1   \n",
      "4                                        Hoffmann Group        3.5   \n",
      "...                                                 ...        ...   \n",
      "2344                          SMS group GmbH Düsseldorf  Not rated   \n",
      "2345                                     Cognitivo GmbH  Not rated   \n",
      "2346                                          pacemaker  Not rated   \n",
      "2347          thyssenkrupp Materials DataflowWorks GmbH  Not rated   \n",
      "2348                                 Universität Kassel  Not rated   \n",
      "\n",
      "                                              Job Title    Location  \n",
      "0                                  Data Analyst (m/w/d)     Germany  \n",
      "1                             Senior BI Analyst (m/w/d)      Munich  \n",
      "2                            Data Analyst (all genders)   Karlsruhe  \n",
      "3                   Datenanalyst / Data Analyst (m/w/d)       Fürth  \n",
      "4                                    BI Analyst (m/w/d)      Munich  \n",
      "...                                                 ...         ...  \n",
      "2344                       Full Stack Developer (m/w/d)  Düsseldorf  \n",
      "2345                Werkstudent Java-Entwickler (m/w/d)   Karlsruhe  \n",
      "2346              (Senior) Full Stack Developer (m/w/d)     Münster  \n",
      "2347              (Senior) Full Stack Developer (m/w/d)      Berlin  \n",
      "2348  Research Assistant/Post doc (m/f/d), EG 13 TV-...      Kassel  \n",
      "\n",
      "[2349 rows x 4 columns]\n"
     ]
    }
   ],
   "source": [
    "from bs4 import BeautifulSoup\n",
    "import pandas as pd\n",
    "\n",
    "class JobScraper:\n",
    "    def __init__(self, file_path):\n",
    "        self.file_path = file_path\n",
    "\n",
    "    def extract_jobs(self):\n",
    "        \"\"\"Extract job data from a single HTML file.\"\"\"\n",
    "        with open(self.file_path, 'r', encoding='utf-8') as file:\n",
    "            html_content = file.read()\n",
    "\n",
    "        soup = BeautifulSoup(html_content, 'html.parser')\n",
    "\n",
    "        company_names, company_ratings, job_titles, job_locations = [], [], [], []\n",
    "\n",
    "        for company_name in soup.find_all('span', class_='EmployerProfile_compactEmployerName__LE242'):\n",
    "            company_names.append(company_name.text.strip())\n",
    "\n",
    "        for rating_container in soup.find_all('div', class_='EmployerProfile_ratingContainer__ul0Ef'):\n",
    "            rating = rating_container.find('span')\n",
    "            company_ratings.append(rating.text.strip() if rating else 'Not rated')\n",
    "\n",
    "        for job_title in soup.find_all('a', class_='JobCard_jobTitle___7I6y'):\n",
    "            job_titles.append(job_title.text.strip())\n",
    "\n",
    "        for location in soup.find_all('div', class_='JobCard_location__rCz3x'):\n",
    "            job_locations.append(location.text.strip())\n",
    "\n",
    "        jobs_data = [{\n",
    "            'Company Name': company_names[i] if i < len(company_names) else 'Not listed',\n",
    "            'Rating': company_ratings[i] if i < len(company_ratings) else 'Not rated',\n",
    "            'Job Title': job_titles[i] if i < len(job_titles) else 'No title',\n",
    "            'Location': job_locations[i] if i < len(job_locations) else 'No location',\n",
    "        } for i in range(len(job_titles))]\n",
    "\n",
    "        return pd.DataFrame(jobs_data)\n",
    "\n",
    "    @classmethod\n",
    "    def process_files(cls, file_paths):\n",
    "        \"\"\"Process multiple HTML files and combine the results into a single DataFrame.\"\"\"\n",
    "        all_jobs_df = pd.DataFrame()\n",
    "\n",
    "        for file_path in file_paths:\n",
    "            scraper = cls(file_path)\n",
    "            df = scraper.extract_jobs()\n",
    "            all_jobs_df = pd.concat([all_jobs_df, df], ignore_index=True)\n",
    "\n",
    "        return all_jobs_df\n",
    "\n",
    "# List of file paths\n",
    "file_paths = [\n",
    "    'data_analyst_Jobs_in_Germany_April_2024_Glassdoor.html',\n",
    "    'data_engineer_Jobs_in_Germany_April_2024_Glassdoor.html',\n",
    "    'data_scientist_Jobs_in_Germany_April_2024_Glassdoor.html'\n",
    "]\n",
    "\n",
    "# Process all files and print the combined DataFrame\n",
    "all_jobs_df = JobScraper.process_files(file_paths)\n",
    "print(all_jobs_df)\n"
   ]
  },
  {
   "cell_type": "code",
   "execution_count": 2,
   "id": "aff8d93a",
   "metadata": {},
   "outputs": [],
   "source": [
    "# Export DataFrame to a CSV file\n",
    "all_jobs_df.to_csv('glassdoor_data_professionals_listings.csv', index=False)"
   ]
  },
  {
   "cell_type": "code",
   "execution_count": null,
   "id": "95b0ef05",
   "metadata": {},
   "outputs": [],
   "source": []
  }
 ],
 "metadata": {
  "kernelspec": {
   "display_name": "Python 3 (ipykernel)",
   "language": "python",
   "name": "python3"
  },
  "language_info": {
   "codemirror_mode": {
    "name": "ipython",
    "version": 3
   },
   "file_extension": ".py",
   "mimetype": "text/x-python",
   "name": "python",
   "nbconvert_exporter": "python",
   "pygments_lexer": "ipython3",
   "version": "3.11.4"
  }
 },
 "nbformat": 4,
 "nbformat_minor": 5
}
